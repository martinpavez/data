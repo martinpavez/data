{
 "cells": [
  {
   "cell_type": "markdown",
   "metadata": {},
   "source": [
    "# Recap "
   ]
  },
  {
   "cell_type": "markdown",
   "metadata": {},
   "source": [
    "Thesis objective is to build ML machine to predict longterm heatwaves indices. \n",
    "\n",
    "We first tried to reproduce ENSO Indices with raw data, bcs literature notes the importance of this phenomenon in season's temperatures (niña hot, niño cold)\n",
    "\n",
    "After succeding in reproducing Indices, we explore the linear correlation between MEI and HW's, next the personal-specified variants of MEI (MEI in whole world, specific boxes, using more than first mode, using different variables). Everything points that there is an underlying pattern because some combinations between the parameters showed high absolute correlations for some seasons. \n",
    "\n",
    "Next step was to build ML Pipeline:\n",
    "\n",
    "1- Build *a lot* of different features \\\n",
    "2- Feature select N_bests using pearson and spearman correlations \\\n",
    "3- Predict using different types from regressors (Linear, RF, XGB, GPR) across 50 years of data (1972-2022 using 5 years as test set) \\\n",
    "4- Measure the prediction potential using r2, mape, cross-validation (5-folds) (idk why 5-folds, should have used 20-folds to match 5 years as test set)"
   ]
  },
  {
   "cell_type": "markdown",
   "metadata": {},
   "source": [
    "Notas Elier:\n",
    "\n",
    "- Usar relacion cruzada para analisar el desfase de indices vs hws\n"
   ]
  },
  {
   "cell_type": "markdown",
   "metadata": {},
   "source": []
  }
 ],
 "metadata": {
  "language_info": {
   "name": "python"
  }
 },
 "nbformat": 4,
 "nbformat_minor": 2
}
