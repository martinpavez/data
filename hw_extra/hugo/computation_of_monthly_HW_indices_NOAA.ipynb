{
 "cells": [
  {
   "cell_type": "markdown",
   "metadata": {},
   "source": [
    "# Computation of hw indices by monthly hw events for NOAA Stations\n",
    "\n",
    "Author: Martin Pavez\n",
    "\n",
    "Creation: Jannuary 2025\n",
    "\n",
    "Steps:\n",
    "1. We read the cleaned data produced by notebook 01.\n",
    "2. We compute the indices HWN, HWF, HWD, HWM, HWA for each year and each station.\n",
    "3. We save the results in order to be used in the next notebooks."
   ]
  },
  {
   "cell_type": "code",
   "execution_count": 1,
   "metadata": {},
   "outputs": [],
   "source": [
    "import sys\n",
    "import os\n",
    "\n",
    "import matplotlib.pyplot as plt\n",
    "\n",
    "import numpy as np\n",
    "import pandas as pd\n",
    "import seaborn as sns\n",
    "\n",
    "from scipy.stats import norm\n",
    "from scipy.optimize import curve_fit\n",
    "\n",
    "import pickle\n",
    "\n",
    "\n",
    "import warnings\n",
    "warnings.filterwarnings(\"ignore\", category=RuntimeWarning) # Suppress specific RuntimeWarnings\n",
    "warnings.filterwarnings(\"ignore\", category=FutureWarning)"
   ]
  },
  {
   "cell_type": "code",
   "execution_count": 2,
   "metadata": {},
   "outputs": [],
   "source": [
    "%load_ext autoreload\n",
    "%autoreload 2"
   ]
  },
  {
   "cell_type": "code",
   "execution_count": 3,
   "metadata": {},
   "outputs": [
    {
     "name": "stdout",
     "output_type": "stream",
     "text": [
      "c:\\Users\\marti\\Desktop\\data\\hw_extra\n"
     ]
    }
   ],
   "source": [
    "os.chdir(\"../\")\n",
    "# change working directory to project's root path\n",
    "print(os.getcwd())"
   ]
  },
  {
   "cell_type": "markdown",
   "metadata": {},
   "source": [
    "# Parameters\n"
   ]
  },
  {
   "cell_type": "code",
   "execution_count": 4,
   "metadata": {},
   "outputs": [],
   "source": [
    "METADATA_PATH_AND_FILENAME = 'data/local_data/NOAA/stations.parquet'\n",
    "TEMP_DATA_PATH = 'data/local_data/NOAA/original'\n",
    "CLEANED_DATA_PATH = 'data/local_data/NOAA/cleaned_2/'\n",
    "MY_FUNCTIONS_PATH = 'hugo/functions/'"
   ]
  },
  {
   "cell_type": "code",
   "execution_count": 5,
   "metadata": {},
   "outputs": [],
   "source": [
    "# Add the folder to the Python path\n",
    "folder_path = os.path.abspath(MY_FUNCTIONS_PATH)\n",
    "sys.path.insert(0, folder_path)\n",
    "\n",
    "from HWCompAndStats import (\n",
    "    HW_statistics,\n",
    "    HW_indices_summary,\n",
    "    HW_stats_of_indices,\n",
    "    plot_stats_of_hwi\n",
    ")"
   ]
  },
  {
   "cell_type": "markdown",
   "metadata": {},
   "source": [
    "# Reading data\n",
    "Let us assume we compute over Quinta Normal (station id = 330020)"
   ]
  },
  {
   "cell_type": "code",
   "execution_count": 8,
   "metadata": {},
   "outputs": [],
   "source": [
    "# Reading raw data of selected stations\n",
    "\n",
    "### stations are already selected\n",
    "statlist_10 = ['USC00040983', 'USC00041194', 'USC00041253', 'USC00040741', 'USC00040212', 'USC00040931', 'USC00041277', 'USC00041244', 'USC00040693', 'USC00040449']\n",
    "stations = pd.DataFrame(index = statlist_10)\n",
    "\n",
    "statlist = statlist_10.copy()\n",
    "station_data_to_read = {}\n",
    "stations_data = {}\n",
    "for stat in statlist:\n",
    "    stations_data[stat] = pd.read_parquet(CLEANED_DATA_PATH + f'Stat_{stat}.parquet')\n",
    "\n",
    "stations = pd.DataFrame(index = statlist)"
   ]
  },
  {
   "cell_type": "code",
   "execution_count": 9,
   "metadata": {},
   "outputs": [
    {
     "data": {
      "text/plain": [
       "0"
      ]
     },
     "execution_count": 9,
     "metadata": {},
     "output_type": "execute_result"
    }
   ],
   "source": [
    "for stat in statlist:\n",
    "    stations_data[stat] =  stations_data[stat].dropna()\n",
    "\n",
    "np.sum(np.isnan(stations_data[stat]['max_temp']))"
   ]
  },
  {
   "cell_type": "markdown",
   "metadata": {},
   "source": [
    "# Heatwave definitions"
   ]
  },
  {
   "cell_type": "markdown",
   "metadata": {},
   "source": [
    "Let us assume we are working over the MeteoChile's definition."
   ]
  },
  {
   "cell_type": "code",
   "execution_count": 10,
   "metadata": {},
   "outputs": [],
   "source": [
    "# MeteoChile\n",
    "HWDef = {'Tind_type': 'max_temp',\n",
    "        'Tcrit_dict': {'meas': 'perc',\n",
    "                        'perc': 90,\n",
    "                        'adj': 'adj',\n",
    "                        'set': '',\n",
    "                        'Tadd': 0,\n",
    "                        'hist_data_temp': 'max_temp'\n",
    "                        },\n",
    "        'Nd': 3}\n",
    "\n",
    "HWDef_dict = {}\n",
    "HWDef_dict['CIMIS'] = HWDef\n",
    "\n",
    "start_year = 1971\n",
    "end_year = 2023\n",
    "\n",
    "\n",
    "ref_period = {}\n",
    "ref_period['CDA'] = [1981, 2010] #ref period due to data availability in california"
   ]
  },
  {
   "cell_type": "markdown",
   "metadata": {},
   "source": [
    "# The computation of monthly indices for a given station"
   ]
  },
  {
   "cell_type": "markdown",
   "metadata": {},
   "source": [
    " Heatwave intensity and frequency measures are considered. Let $HW$ denote the set of heatwave events in a given year. The following indices for heatwaves will be used, based in \\cite{perkins2013measurement}:\n",
    "\n",
    "1) HWN: yearly number of heat waves.\n",
    "$$\n",
    "HWN = \\lvert HW \\rvert = \\sum_{W \\in HW} 1 .\n",
    "$$\n",
    "2) HWF: yearly number of days included in HW events. \n",
    "$$\n",
    "HWF = \\sum_{W \\in HW} \\lvert W \\rvert = \\sum_{W \\in HW} \\sum_{w \\in W} 1 . \n",
    "$$\n",
    "3) HWD: Maximum duration (in days) of the longest heat wave event in a given year. \n",
    "$$\n",
    "HWD = \\max \\left\\{ \\lvert W \\rvert ; \\ W \\in HWD \\right\\}\n",
    "$$\n",
    "4) HWM: average magnitude of all heat waves during a year.\n",
    "$$\n",
    "HWM = \\frac{1}{HWF} \n",
    "\\sum_{W \\in HWD} \\sum_{w \\in W} T_{\\operatorname{m}} (w) - T_{\\operatorname{c}} (w)\n",
    "%\\sum_{\n",
    "%\\begin{matrix}\n",
    "%d \\in hw \\\\\n",
    "%hw \\text{ is a heatwave}\n",
    "%\\end{matrix}} T_{d, max} - T_{d, threshold}\n",
    "$$\n",
    "5) HWA: the peak daily value of the hottest heatwave event. \n",
    "$$\n",
    "HWA =  \\max \\left\\{ T_{\\operatorname{m}}(w) - T_{\\operatorname{c}}(w) \\ \\left\\rvert  \\ w \\in \\bigcup_{W \\in HWD} W \\right.\\right\\}\n",
    "$$\n",
    "\n",
    "Note that HWN and HWF measure annual frequency of heatwaves, while HWD, HWM, and HWA measure annual intensity.\n",
    "Finally, as a remark, note that these definitions depend on the choice of heatwave definition. "
   ]
  },
  {
   "cell_type": "markdown",
   "metadata": {},
   "source": [
    "# What if the indices become monthly?"
   ]
  },
  {
   "cell_type": "code",
   "execution_count": 13,
   "metadata": {},
   "outputs": [
    {
     "name": "stdout",
     "output_type": "stream",
     "text": [
      "nans=max_temp    0\n",
      "dtype: int64\n"
     ]
    }
   ],
   "source": [
    "data = stations_data['USC00040983']\n",
    "print(f'nans={np.sum(np.isnan(data))}')\n",
    "\n",
    "start_year = 1971\n",
    "end_year = 2023\n",
    "\n",
    "hws = []\n",
    "for stat in statlist:\n",
    "    data = stations_data[stat]\n",
    "    hw1 = HW_statistics(data, start_year, end_year)\n",
    "    _, _, heatwaves = hw1.HW_funs(HWDef['Tind_type'], HWDef['Tcrit_dict'], HWDef['Nd'], 1980, 2010)\n",
    "    hws.append(heatwaves)"
   ]
  },
  {
   "cell_type": "code",
   "execution_count": 15,
   "metadata": {},
   "outputs": [],
   "source": [
    "def HWI(heatwaves, period_window, hwis, period_type = 'year'):\n",
    "    start_year = period_window[0]\n",
    "    end_year = period_window[1]\n",
    "    if period_type=='year':\n",
    "        index = range(start_year, end_year+1)\n",
    "    elif period_type == 'month':\n",
    "        date_range = pd.date_range(start=f'{start_year}-01-01', end=f'{end_year}-12-31', freq='M')\n",
    "        index = [(date.year, date.month) for date in date_range]\n",
    "    if isinstance(hwis, str):\n",
    "        hwis = [hwis]\n",
    "    hw_period_stats = pd.DataFrame(columns=hwis, index=index)\n",
    "    for year_to_analyze in range(start_year, end_year+1):\n",
    "        hw_year = heatwaves[heatwaves['start'].dt.year == year_to_analyze] ## Arbitrarily we decide start as belonging month\n",
    "        if period_type == 'month':\n",
    "            for month_to_analyze in range(1,13):\n",
    "                hw_month = hw_year[hw_year['start'].dt.month == month_to_analyze]\n",
    "                for hwi in hwis:\n",
    "                    if hwi == 'HWN':\n",
    "                        hwn = len(hw_month)\n",
    "                        if np.isnan(hwn):\n",
    "                            hw_period_stats['HWN'][(year_to_analyze, month_to_analyze)] = 0.0\n",
    "                        else:\n",
    "                            hw_period_stats['HWN'][(year_to_analyze, month_to_analyze)] = hwn\n",
    "                    elif hwi == 'HWF':\n",
    "                        hwf = np.sum(hw_month['duration'])\n",
    "                        if np.isnan(hwn):\n",
    "                            hw_period_stats['HWF'][(year_to_analyze, month_to_analyze)] = 0.0\n",
    "                        else:\n",
    "                            hw_period_stats['HWF'][(year_to_analyze, month_to_analyze)] = hwf\n",
    "                    elif hwi == 'HWD':\n",
    "                        hwd = np.max(hw_month['duration'])\n",
    "                        if np.isnan(hwd):\n",
    "                            hw_period_stats['HWD'][(year_to_analyze, month_to_analyze)] = 0.0\n",
    "                        else:\n",
    "                            hw_period_stats['HWD'][(year_to_analyze, month_to_analyze)] = hwd\n",
    "                    elif hwi == 'HWM':\n",
    "                        hwm = np.sum(np.array(hw_month['duration'], dtype=float)*np.array(hw_month['magnitude'], dtype=float))/np.sum(np.array(hw_month['duration'], dtype=float))\n",
    "                        if np.isnan(hwm):\n",
    "                            hw_period_stats['HWM'][(year_to_analyze, month_to_analyze)] = 0.0\n",
    "                        else:\n",
    "                            hw_period_stats['HWM'][(year_to_analyze, month_to_analyze)] = hwm\n",
    "                    elif hwi == 'HWA':\n",
    "                        hwa = np.max(hw_month['max_magn'])\n",
    "                        if np.isnan(hwm):\n",
    "                            hw_period_stats['HWA'][(year_to_analyze, month_to_analyze)] = 0.0\n",
    "                        else:\n",
    "                            hw_period_stats['HWA'][(year_to_analyze, month_to_analyze)] = hwa\n",
    "\n",
    "        else:\n",
    "            hw_period_stats['HWN'][year_to_analyze] = len(hw_year)\n",
    "            hw_period_stats['HWF'][year_to_analyze] = np.sum(hw_year['duration'])\n",
    "            hw_period_stats['HWD'][year_to_analyze] = np.max(hw_year['duration'])\n",
    "            if np.isnan(hw_period_stats['HWD'][year_to_analyze]): #if a year does not have any heatwave event, then the duration is set to be 0. \n",
    "                hw_period_stats['HWD'][year_to_analyze] = 0.0\n",
    "            hw_period_stats['HWM'][year_to_analyze] = np.sum(np.array(hw_year['duration'], dtype=float)*np.array(hw_year['magnitude'], dtype=float))/np.sum(np.array(hw_year['duration'], dtype=float))\n",
    "            if np.isnan(hw_period_stats['HWM'][year_to_analyze]): #if a year does not have any heatwave event, then the duration is set to be 0. \n",
    "                hw_period_stats['HWM'][year_to_analyze] = 0.0\n",
    "            hw_period_stats['HWA'][year_to_analyze] = np.max(hw_year['max_magn'])\n",
    "            if np.isnan(hw_period_stats['HWA'][year_to_analyze]): #if a year does not have any heatwave event, then the duration is set to be 0. \n",
    "                hw_period_stats['HWA'][year_to_analyze] = 0.0\n",
    "    if period_type == 'month':\n",
    "        new_index = [pd.Period(year=i[0], month=i[1], freq='M') for i in list(hw_period_stats.index)]\n",
    "        hw_period_stats.index = new_index\n",
    "\n",
    "    return hw_period_stats\n",
    "\n",
    "hwi = ['HWN', 'HWF', 'HWD', 'HWM', 'HWA']\n",
    "period_window = [start_year, end_year]\n",
    "#hwis = HWI(heatwaves, period_window, hwi, period_type = 'year')\n",
    "#print(hwis)\n",
    "\n",
    "for i in range(len(hws)):\n",
    "    hwis = HWI(hws[i], period_window, hwi, period_type = 'month')\n",
    "    hwis.index.name = \"Date\"\n",
    "    hwis.to_csv(f\"data/local_data/monthly/HWs_{statlist[i]}.csv\")\n",
    "\n"
   ]
  },
  {
   "cell_type": "code",
   "execution_count": 12,
   "metadata": {},
   "outputs": [],
   "source": [
    "hwis.to_csv(\"HWs_47.csv\")"
   ]
  },
  {
   "cell_type": "code",
   "execution_count": 97,
   "metadata": {},
   "outputs": [
    {
     "data": {
      "text/plain": [
       "[<matplotlib.lines.Line2D at 0x17bf6e3d0>]"
      ]
     },
     "execution_count": 97,
     "metadata": {},
     "output_type": "execute_result"
    },
    {
     "data": {
      "image/png": "[encoded data removed]",
      "text/plain": [
       "<Figure size 640x480 with 1 Axes>"
      ]
     },
     "metadata": {},
     "output_type": "display_data"
    }
   ],
   "source": [
    "plt.plot(pd.Series(hwis['HWF'], index = hwis['HWF'].index.to_timestamp()))"
   ]
  },
  {
   "cell_type": "code",
   "execution_count": 57,
   "metadata": {},
   "outputs": [
    {
     "name": "stdout",
     "output_type": "stream",
     "text": [
      "        start        end  duration  mean_temp  min_temp  max_temp   date_max  \\\n",
      "13 2022-12-10 2022-12-13         4  33.650000      32.1      35.4 2022-12-11   \n",
      "14 2022-12-06 2022-12-08         3  32.600000      31.7      33.9 2022-12-06   \n",
      "15 2022-11-21 2022-11-23         3  31.800000      31.3      32.5 2022-11-22   \n",
      "16 2022-11-15 2022-11-18         4  31.525000      30.9      33.0 2022-11-15   \n",
      "17 2022-10-31 2022-11-02         3  30.566667      29.3      32.0 2022-11-01   \n",
      "18 2022-10-14 2022-10-16         3  27.733333      27.1      28.9 2022-10-15   \n",
      "19 2022-09-02 2022-09-06         5  25.960000      22.9      28.6 2022-09-05   \n",
      "20 2022-08-19 2022-08-21         3  24.700000      22.8      26.1 2022-08-19   \n",
      "21 2022-04-04 2022-04-08         5  29.200000      28.4      30.1 2022-04-05   \n",
      "22 2022-02-16 2022-02-18         3  32.466667      31.7      33.7 2022-02-17   \n",
      "\n",
      "    magnitude  max_magn  \n",
      "13   1.813866  3.588882  \n",
      "14   1.011224  2.369965  \n",
      "15   1.246061  1.945665  \n",
      "16   1.421656  3.024526  \n",
      "17   1.889352  3.322474  \n",
      "18   0.790114  1.956741  \n",
      "19   3.050622  5.607073  \n",
      "20   2.918433  4.383565  \n",
      "21   2.085649  2.881297  \n",
      "22   1.082709  2.315564  \n",
      "        start        end  duration  mean_temp  min_temp  max_temp   date_max  \\\n",
      "22 2022-02-16 2022-02-18         3  32.466667      31.7      33.7 2022-02-17   \n",
      "\n",
      "    magnitude  max_magn  \n",
      "22   1.082709  2.315564  \n",
      "monthly hwi = 1\n"
     ]
    }
   ],
   "source": [
    "year_to_analyze = 2022\n",
    "hw_year = heatwaves[heatwaves['start'].dt.year == year_to_analyze]\n",
    "print(hw_year)\n",
    "\n",
    "month_to_analyze = 2\n",
    "monthly_hw = hw_year[hw_year['start'].dt.month == month_to_analyze]\n",
    "print(monthly_hw)\n",
    "print(f'monthly hwi = {len(monthly_hw)}')"
   ]
  },
  {
   "cell_type": "markdown",
   "metadata": {},
   "source": [
    "# just for taking some ideas from this block..."
   ]
  },
  {
   "cell_type": "code",
   "execution_count": null,
   "metadata": {},
   "outputs": [],
   "source": [
    "\n",
    "\n",
    "hw1 = HW_statistics(data, start_year, end_year)\n",
    "\n",
    "_, _, heatwaves = hw1.HW_funs(HWDef['Tind_type'], HWDef['Tcrit_dict'], HWDef['Nd'], year_window[yw][0], year_window[yw][1])\n",
    "\n",
    "\n",
    "\n",
    "\n",
    "def HW_indices_by_period(hw1, HWDef, start_year, end_year, period_window, period_type = 'year'):\n",
    "    #this function is for a single HW definition and for a single station\n",
    "    hw_stats_by_year = {}\n",
    "    for yw in list(period_window.keys()): #range(1, len(year_window)+1):\n",
    "        #hw_period_stats = {}\n",
    "        _, _, heatwaves = hw1.HW_funs(HWDef['Tind_type'], HWDef['Tcrit_dict'], HWDef['Nd'], year_window[yw][0], year_window[yw][1])\n",
    "\n",
    "        if period_type=='year':\n",
    "            index = range(start_year, end_year+1)\n",
    "        elif period_type == 'month':\n",
    "            date_range = pd.date_range(start=f'{yw[0]}-01-01', end=f'{yw[1]}-12-31', freq='M')\n",
    "            index = [(date.year, date.month) for date in date_range]\n",
    "\n",
    "        hw_period_stats = pd.DataFrame(columns=['HWN', 'HWF', 'HWD', 'HWM', 'HWA'], index=index)\n",
    "\n",
    "        for year_to_analyze in range(start_year, end_year+1):\n",
    "            if period_type == 'year':\n",
    "                hw_year = heatwaves[heatwaves['start'].dt.year == year_to_analyze]\n",
    "                hw_period_stats['HWN'][year_to_analyze] = len(hw_year)\n",
    "                hw_period_stats['HWF'][year_to_analyze] = np.sum(hw_year['duration'])\n",
    "                hw_period_stats['HWD'][year_to_analyze] = np.max(hw_year['duration'])\n",
    "                if np.isnan(hw_period_stats['HWD'][year_to_analyze]): #if a year does not have any heatwave event, then the duration is set to be 0. \n",
    "                    hw_period_stats['HWD'][year_to_analyze] = 0.0\n",
    "                hw_period_stats['HWM'][year_to_analyze] = np.sum(np.array(hw_year['duration'], dtype=float)*np.array(hw_year['magnitude'], dtype=float))/np.sum(np.array(hw_year['duration'], dtype=float))\n",
    "                if np.isnan(hw_period_stats['HWM'][year_to_analyze]): #if a year does not have any heatwave event, then the duration is set to be 0. \n",
    "                    hw_period_stats['HWM'][year_to_analyze] = 0.0\n",
    "                hw_period_stats['HWA'][year_to_analyze] = np.max(hw_year['max_magn'])\n",
    "                if np.isnan(hw_period_stats['HWA'][year_to_analyze]): #if a year does not have any heatwave event, then the duration is set to be 0. \n",
    "                    hw_period_stats['HWA'][year_to_analyze] = 0.0\n",
    "            elif period_type == 'month':\n",
    "                for month_to_analyze in range()\n",
    "        hw_stats_by_year[yw] = hw_period_stats\n",
    "\n",
    "    return hw_stats_by_year"
   ]
  },
  {
   "cell_type": "code",
   "execution_count": null,
   "metadata": {},
   "outputs": [],
   "source": []
  }
 ],
 "metadata": {
  "kernelspec": {
   "display_name": "Python 3",
   "language": "python",
   "name": "python3"
  },
  "language_info": {
   "codemirror_mode": {
    "name": "ipython",
    "version": 3
   },
   "file_extension": ".py",
   "mimetype": "text/x-python",
   "name": "python",
   "nbconvert_exporter": "python",
   "pygments_lexer": "ipython3",
   "version": "3.10.11"
  },
  "orig_nbformat": 4
 },
 "nbformat": 4,
 "nbformat_minor": 2
}
