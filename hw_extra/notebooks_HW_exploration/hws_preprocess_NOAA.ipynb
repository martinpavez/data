{
 "cells": [
  {
   "cell_type": "markdown",
   "metadata": {},
   "source": [
    "# Heatwaves preprocess for analysis"
   ]
  },
  {
   "cell_type": "code",
   "execution_count": 1,
   "metadata": {},
   "outputs": [
    {
     "name": "stdout",
     "output_type": "stream",
     "text": [
      "c:\\Users\\marti\\Desktop\\data\\hw_extra\n"
     ]
    }
   ],
   "source": [
    "import pandas as pd\n",
    "import os\n",
    "\n",
    "os.chdir(\"../\")\n",
    "# change working directory to project's root path\n",
    "print(os.getcwd())"
   ]
  },
  {
   "cell_type": "markdown",
   "metadata": {},
   "source": [
    "## Monthly"
   ]
  },
  {
   "cell_type": "code",
   "execution_count": 4,
   "metadata": {},
   "outputs": [],
   "source": [
    "statlist_cali = ['USC00040983', 'USC00041194', 'USC00041253', 'USC00040741', 'USC00040212', 'USC00040931', 'USC00041277', 'USC00041244', 'USC00040693', 'USC00040449']\n",
    "# statlist_cali = ['USC00040983', 'USC00041194', 'USC00041253', 'USC00040741', 'USC00041244']\n",
    "statlist_cali = [ 'USC00040212', 'USC00040931', 'USC00041277', 'USC00040693', 'USC00040449']\n",
    "\n",
    "data_cali = pd.read_csv(f\"data/local_data/monthly/HWs_USC00040212.csv\")\n",
    "\n",
    "indices = [\"HWN\", \"HWF\", \"HWD\", \"HWM\", \"HWA\"]\n",
    "\n",
    "\n",
    "for stat in statlist_cali[1:]:\n",
    "    df = pd.read_csv(f\"data/local_data/monthly/HWs_{stat}.csv\", usecols=indices)\n",
    "    data_cali = pd.concat([data_cali, df], axis=1)\n",
    "data_cali.set_index(\"Date\", inplace=True)"
   ]
  },
  {
   "cell_type": "code",
   "execution_count": 5,
   "metadata": {},
   "outputs": [
    {
     "data": {
      "text/html": [
       "<div>\n",
       "<style scoped>\n",
       "    .dataframe tbody tr th:only-of-type {\n",
       "        vertical-align: middle;\n",
       "    }\n",
       "\n",
       "    .dataframe tbody tr th {\n",
       "        vertical-align: top;\n",
       "    }\n",
       "\n",
       "    .dataframe thead th {\n",
       "        text-align: right;\n",
       "    }\n",
       "</style>\n",
       "<table border=\"1\" class=\"dataframe\">\n",
       "  <thead>\n",
       "    <tr style=\"text-align: right;\">\n",
       "      <th></th>\n",
       "      <th>HWN</th>\n",
       "      <th>HWF</th>\n",
       "      <th>HWD</th>\n",
       "      <th>HWM</th>\n",
       "      <th>HWA</th>\n",
       "    </tr>\n",
       "    <tr>\n",
       "      <th>Date</th>\n",
       "      <th></th>\n",
       "      <th></th>\n",
       "      <th></th>\n",
       "      <th></th>\n",
       "      <th></th>\n",
       "    </tr>\n",
       "  </thead>\n",
       "  <tbody>\n",
       "    <tr>\n",
       "      <th>1971-01</th>\n",
       "      <td>0.6</td>\n",
       "      <td>3.4</td>\n",
       "      <td>3.4</td>\n",
       "      <td>1.099157</td>\n",
       "      <td>1.893519</td>\n",
       "    </tr>\n",
       "    <tr>\n",
       "      <th>1971-02</th>\n",
       "      <td>0.8</td>\n",
       "      <td>4.8</td>\n",
       "      <td>4.8</td>\n",
       "      <td>3.265361</td>\n",
       "      <td>5.653718</td>\n",
       "    </tr>\n",
       "    <tr>\n",
       "      <th>1971-03</th>\n",
       "      <td>0.0</td>\n",
       "      <td>0.0</td>\n",
       "      <td>0.0</td>\n",
       "      <td>0.000000</td>\n",
       "      <td>0.000000</td>\n",
       "    </tr>\n",
       "    <tr>\n",
       "      <th>1971-04</th>\n",
       "      <td>0.4</td>\n",
       "      <td>1.2</td>\n",
       "      <td>1.2</td>\n",
       "      <td>1.061313</td>\n",
       "      <td>1.589760</td>\n",
       "    </tr>\n",
       "    <tr>\n",
       "      <th>1971-05</th>\n",
       "      <td>0.0</td>\n",
       "      <td>0.0</td>\n",
       "      <td>0.0</td>\n",
       "      <td>0.000000</td>\n",
       "      <td>0.000000</td>\n",
       "    </tr>\n",
       "    <tr>\n",
       "      <th>...</th>\n",
       "      <td>...</td>\n",
       "      <td>...</td>\n",
       "      <td>...</td>\n",
       "      <td>...</td>\n",
       "      <td>...</td>\n",
       "    </tr>\n",
       "    <tr>\n",
       "      <th>2023-08</th>\n",
       "      <td>0.0</td>\n",
       "      <td>0.0</td>\n",
       "      <td>0.0</td>\n",
       "      <td>0.000000</td>\n",
       "      <td>0.000000</td>\n",
       "    </tr>\n",
       "    <tr>\n",
       "      <th>2023-09</th>\n",
       "      <td>0.0</td>\n",
       "      <td>0.0</td>\n",
       "      <td>0.0</td>\n",
       "      <td>0.000000</td>\n",
       "      <td>0.000000</td>\n",
       "    </tr>\n",
       "    <tr>\n",
       "      <th>2023-10</th>\n",
       "      <td>0.6</td>\n",
       "      <td>2.8</td>\n",
       "      <td>2.8</td>\n",
       "      <td>2.665441</td>\n",
       "      <td>3.707495</td>\n",
       "    </tr>\n",
       "    <tr>\n",
       "      <th>2023-11</th>\n",
       "      <td>0.2</td>\n",
       "      <td>0.8</td>\n",
       "      <td>0.8</td>\n",
       "      <td>0.505283</td>\n",
       "      <td>0.824361</td>\n",
       "    </tr>\n",
       "    <tr>\n",
       "      <th>2023-12</th>\n",
       "      <td>0.2</td>\n",
       "      <td>0.8</td>\n",
       "      <td>0.8</td>\n",
       "      <td>0.220858</td>\n",
       "      <td>0.301631</td>\n",
       "    </tr>\n",
       "  </tbody>\n",
       "</table>\n",
       "<p>636 rows × 5 columns</p>\n",
       "</div>"
      ],
      "text/plain": [
       "         HWN  HWF  HWD       HWM       HWA\n",
       "Date                                      \n",
       "1971-01  0.6  3.4  3.4  1.099157  1.893519\n",
       "1971-02  0.8  4.8  4.8  3.265361  5.653718\n",
       "1971-03  0.0  0.0  0.0  0.000000  0.000000\n",
       "1971-04  0.4  1.2  1.2  1.061313  1.589760\n",
       "1971-05  0.0  0.0  0.0  0.000000  0.000000\n",
       "...      ...  ...  ...       ...       ...\n",
       "2023-08  0.0  0.0  0.0  0.000000  0.000000\n",
       "2023-09  0.0  0.0  0.0  0.000000  0.000000\n",
       "2023-10  0.6  2.8  2.8  2.665441  3.707495\n",
       "2023-11  0.2  0.8  0.8  0.505283  0.824361\n",
       "2023-12  0.2  0.8  0.8  0.220858  0.301631\n",
       "\n",
       "[636 rows x 5 columns]"
      ]
     },
     "metadata": {},
     "output_type": "display_data"
    }
   ],
   "source": [
    "\n",
    "df_mean_cali = pd.DataFrame(columns=indices, index=data_cali.index)\n",
    "\n",
    "for index in indices:\n",
    "    df_mean_cali[index] = data_cali[index].mean(axis=1)\n",
    "\n",
    "save = True\n",
    "if save:\n",
    "    df_mean_cali.to_csv(\"HWs_california_NOAA_norte.csv\")\n",
    "display(df_mean_cali)"
   ]
  },
  {
   "cell_type": "markdown",
   "metadata": {},
   "source": [
    "## Yearly"
   ]
  },
  {
   "cell_type": "code",
   "execution_count": 6,
   "metadata": {},
   "outputs": [],
   "source": [
    "data_cali = pd.read_csv(f\"data/local_data/yearly/HWs_{statlist_cali[0]}.csv\")\n",
    "\n",
    "indices = [\"HWN\", \"HWF\", \"HWD\", \"HWM\", \"HWA\"]\n",
    "\n",
    "for stat in statlist_cali[1:]:\n",
    "    df = pd.read_csv(f\"data/local_data/yearly/HWs_{stat}.csv\", usecols=indices)\n",
    "    data_cali = pd.concat([data_cali, df], axis=1)\n",
    "data_cali.set_index(\"Date\", inplace=True)"
   ]
  },
  {
   "cell_type": "code",
   "execution_count": 7,
   "metadata": {},
   "outputs": [],
   "source": [
    "\n",
    "df_mean_cali = pd.DataFrame(columns=indices, index=data_cali.index)\n",
    "\n",
    "for index in indices:\n",
    "    df_mean_cali[index] = data_cali[index].mean(axis=1)\n",
    "\n",
    "save = True\n",
    "if save:\n",
    "    df_mean_cali.to_csv(\"HWs_california_NOAA.csv\")"
   ]
  },
  {
   "cell_type": "code",
   "execution_count": null,
   "metadata": {},
   "outputs": [],
   "source": []
  }
 ],
 "metadata": {
  "kernelspec": {
   "display_name": "Python 3",
   "language": "python",
   "name": "python3"
  },
  "language_info": {
   "codemirror_mode": {
    "name": "ipython",
    "version": 3
   },
   "file_extension": ".py",
   "mimetype": "text/x-python",
   "name": "python",
   "nbconvert_exporter": "python",
   "pygments_lexer": "ipython3",
   "version": "3.10.11"
  }
 },
 "nbformat": 4,
 "nbformat_minor": 2
}
