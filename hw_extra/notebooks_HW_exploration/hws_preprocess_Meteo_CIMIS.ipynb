{
 "cells": [
  {
   "cell_type": "markdown",
   "metadata": {},
   "source": [
    "# Heatwaves preprocess for analysis of NOAA stations"
   ]
  },
  {
   "cell_type": "code",
   "execution_count": 2,
   "metadata": {},
   "outputs": [
    {
     "name": "stdout",
     "output_type": "stream",
     "text": [
      "c:\\Users\\marti\\Desktop\\data\\hw_extra\n"
     ]
    }
   ],
   "source": [
    "import pandas as pd\n",
    "import os\n",
    "\n",
    "os.chdir(\"../\")\n",
    "# change working directory to project's root path\n",
    "print(os.getcwd())"
   ]
  },
  {
   "cell_type": "markdown",
   "metadata": {},
   "source": [
    "## Monthly"
   ]
  },
  {
   "cell_type": "code",
   "execution_count": 6,
   "metadata": {},
   "outputs": [],
   "source": [
    "statlist_cali = [ 6, 35, 39, 43, 47, 52, 62, 70, 90] \n",
    "# statlist_cali = [62, 52, 39, 35]\n",
    "statlist_cali = [43, 47, 70, 90]\n",
    "# statlist_chile = [ 330020, 330030, 340031, 360011, 360019, 380013, 390006, 400009, 410005]\n",
    "statlist_chile = [330020, 330030, 340031]\n",
    "statlist_chile = [360019, 380013, 390006, 400009, 410005]\n",
    "data_cali = pd.read_csv(f\"data/local_data/monthly/HWs_6.csv\")\n",
    "\n",
    "data_chile = pd.read_csv(f\"data/local_data/monthly/HWs_360011.csv\")\n",
    "indices = [\"HWN\", \"HWF\", \"HWD\", \"HWM\", \"HWA\"]\n",
    "\n",
    "\n",
    "for stat in statlist_chile:\n",
    "    df = pd.read_csv(f\"data/local_data/monthly/HWs_{stat}.csv\", usecols=indices)\n",
    "    data_chile = pd.concat([data_chile, df], axis=1)\n",
    "for stat in statlist_cali:\n",
    "    df = pd.read_csv(f\"data/local_data/monthly/HWs_{stat}.csv\", usecols=indices)\n",
    "    data_cali = pd.concat([data_cali, df], axis=1)\n",
    "data_chile.set_index(\"Date\", inplace=True)\n",
    "data_cali.set_index(\"Date\", inplace=True)"
   ]
  },
  {
   "cell_type": "code",
   "execution_count": 7,
   "metadata": {},
   "outputs": [],
   "source": [
    "\n",
    "df_mean_chile = pd.DataFrame(columns=indices, index=data_chile.index)\n",
    "df_mean_cali = pd.DataFrame(columns=indices, index=data_cali.index)\n",
    "\n",
    "for index in indices:\n",
    "    df_mean_chile[index] = data_chile[index].mean(axis=1)\n",
    "    df_mean_cali[index] = data_cali[index].mean(axis=1)\n",
    "\n",
    "save = True\n",
    "if save:\n",
    "    # df_mean_chile.to_csv(\"HWs_chile_central_sur.csv\")\n",
    "    df_mean_cali.to_csv(\"HWs_cali_norte.csv\")"
   ]
  },
  {
   "cell_type": "markdown",
   "metadata": {},
   "source": [
    "## Yearly"
   ]
  },
  {
   "cell_type": "code",
   "execution_count": 7,
   "metadata": {},
   "outputs": [],
   "source": [
    "statlist_cali = [ 6, 35, 39, 43, 47, 52, 62, 70, 90] \n",
    "statlist_chile = [  330020, 330030, 340031, 360011, 360019, 380013, 390006, 400009, 410005]\n",
    "data_cali = pd.read_csv(f\"data/local_data/yearly/HWs_5.csv\")\n",
    "\n",
    "data_chile = pd.read_csv(f\"data/local_data/yearly/HWs_330007.csv\")\n",
    "indices = [\"HWN\", \"HWF\", \"HWD\", \"HWM\", \"HWA\"]\n",
    "\n",
    "\n",
    "for stat in statlist_chile:\n",
    "    df = pd.read_csv(f\"data/local_data/yearly/HWs_{stat}.csv\", usecols=indices)\n",
    "    data_chile = pd.concat([data_chile, df], axis=1)\n",
    "for stat in statlist_cali:\n",
    "    df = pd.read_csv(f\"data/local_data/yearly/HWs_{stat}.csv\", usecols=indices)\n",
    "    data_cali = pd.concat([data_cali, df], axis=1)\n",
    "data_chile.set_index(\"Date\", inplace=True)\n",
    "data_cali.set_index(\"Date\", inplace=True)"
   ]
  },
  {
   "cell_type": "code",
   "execution_count": 8,
   "metadata": {},
   "outputs": [],
   "source": [
    "\n",
    "df_mean_chile = pd.DataFrame(columns=indices, index=data_chile.index)\n",
    "df_mean_cali = pd.DataFrame(columns=indices, index=data_cali.index)\n",
    "\n",
    "for index in indices:\n",
    "    df_mean_chile[index] = data_chile[index].mean(axis=1)\n",
    "    df_mean_cali[index] = data_cali[index].mean(axis=1)\n",
    "\n",
    "save = False\n",
    "if save:\n",
    "    df_mean_chile.to_csv(\"HWs_chile_central.csv\")\n",
    "    #df_mean_cali.to_csv(\"HWs_cali.csv\")"
   ]
  },
  {
   "cell_type": "code",
   "execution_count": null,
   "metadata": {},
   "outputs": [],
   "source": []
  }
 ],
 "metadata": {
  "kernelspec": {
   "display_name": "Python 3",
   "language": "python",
   "name": "python3"
  },
  "language_info": {
   "codemirror_mode": {
    "name": "ipython",
    "version": 3
   },
   "file_extension": ".py",
   "mimetype": "text/x-python",
   "name": "python",
   "nbconvert_exporter": "python",
   "pygments_lexer": "ipython3",
   "version": "3.10.11"
  }
 },
 "nbformat": 4,
 "nbformat_minor": 2
}
