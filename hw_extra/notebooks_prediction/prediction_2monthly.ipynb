{
 "cells": [
  {
   "cell_type": "markdown",
   "metadata": {},
   "source": [
    "# California 2Monthly Prediction"
   ]
  },
  {
   "cell_type": "markdown",
   "metadata": {},
   "source": [
    "## Imports and Functions"
   ]
  },
  {
   "cell_type": "code",
   "execution_count": 1,
   "metadata": {},
   "outputs": [],
   "source": [
    "import pandas as pd\n",
    "from sklearn.ensemble import RandomForestRegressor\n",
    "from sklearn.linear_model import LinearRegression\n",
    "from sklearn.gaussian_process.kernels import RBF, WhiteKernel\n",
    "from sklearn.gaussian_process import GaussianProcessRegressor\n",
    "\n",
    "\n",
    "from sklearn.svm import SVR\n",
    "import os\n",
    "import numpy as np\n",
    "from xgboost import XGBRegressor\n",
    "import sys"
   ]
  },
  {
   "cell_type": "code",
   "execution_count": 2,
   "metadata": {},
   "outputs": [
    {
     "name": "stdout",
     "output_type": "stream",
     "text": [
      "c:\\Users\\marti\\Desktop\\data\\hw_extra\n"
     ]
    }
   ],
   "source": [
    "# Add the folder to the Python path\n",
    "\n",
    "os.chdir(\"../\")\n",
    "# change working directory to project's root path\n",
    "print(os.getcwd())\n",
    "\n",
    "FIRST_YEAR= 1972\n",
    "FREQUENCY= \"2monthly\""
   ]
  },
  {
   "cell_type": "code",
   "execution_count": 3,
   "metadata": {},
   "outputs": [],
   "source": [
    "folder_path = os.path.abspath(\"functions/\") #INPUT_PATH)#'path_to_your_folder')  # Replace with the actual folder path\n",
    "sys.path.insert(0, folder_path)\n",
    "\n",
    "from Predictions import (\n",
    "    PredictionExperiment,\n",
    "    PredictionModel\n",
    ")"
   ]
  },
  {
   "cell_type": "code",
   "execution_count": null,
   "metadata": {},
   "outputs": [],
   "source": [
    "metadata = pd.read_csv(\"data/new_features_t2m/california/metadata.csv\")\n",
    "metadata = metadata[metadata[\"frequency\"]==FREQUENCY]\n",
    "metadata"
   ]
  },
  {
   "cell_type": "code",
   "execution_count": 29,
   "metadata": {},
   "outputs": [],
   "source": [
    "kernel = RBF(length_scale=1.0) + WhiteKernel(noise_level=1)\n",
    "regressors = [LinearRegression(),RandomForestRegressor(random_state=42, n_estimators=5), RandomForestRegressor(random_state=42, n_estimators=10), SVR(kernel='rbf'),\n",
    "                XGBRegressor(random_state=42, n_estimators=10, learning_rate=0.1),XGBRegressor(random_state=42, n_estimators=15, learning_rate=0.1), GaussianProcessRegressor(kernel=kernel, random_state=42, n_restarts_optimizer=10)]\n",
    "name_regressors = [\"Linear\", \"RF5\", \"RF10\", \"SVR-rbf\", \"XGB10\", \"XGB15\", \"GPR\"]\n",
    "indices_of_interest = [\"HWN\", \"HWF\", \"HWD\", \"HWM\", \"HWA\"]\n",
    "region=\"california\""
   ]
  },
  {
   "cell_type": "code",
   "execution_count": 33,
   "metadata": {},
   "outputs": [
    {
     "name": "stderr",
     "output_type": "stream",
     "text": [
      "c:\\Users\\marti\\AppData\\Local\\Programs\\Python\\Python310\\lib\\site-packages\\sklearn\\gaussian_process\\_gpr.py:659: ConvergenceWarning: lbfgs failed to converge (status=2):\n",
      "ABNORMAL_TERMINATION_IN_LNSRCH.\n",
      "\n",
      "Increase the number of iterations (max_iter) or scale the data as shown in:\n",
      "    https://scikit-learn.org/stable/modules/preprocessing.html\n",
      "  _check_optimize_result(\"lbfgs\", opt_res)\n"
     ]
    }
   ],
   "source": [
    "id_experiments = metadata[\"id\"].unique()\n",
    "for id in id_experiments:\n",
    "    data = {i: pd.read_parquet(f\"data/new_features_t2m/{region}/predictor_{id}_{i}.parquet\") for i in range(1,13)}\n",
    "    experiment_1 = PredictionExperiment(data, indices_of_interest, regressors, name_regressors, 5, id)\n",
    "    experiment_1.execute_experiment()\n",
    "    experiment_1.get_metrics(\"r2\", \"prediction\", show=False)\n",
    "    experiment_1.get_metrics(\"mape\", \"prediction\", show=False)\n",
    "    experiment_1.get_metrics(\"r2\", stage=\"training\", show=False)\n",
    "    experiment_1.get_metrics(\"mape\", stage=\"training\", show=False)\n",
    "    experiment_1.get_metrics(\"cv_r2\", show=False)\n",
    "    #experiment_1.top_results(\"r2\", 5, stage=\"prediction\", top_data_path=f\"data/results/{FREQUENCY}/top_results.csv\")\n",
    "    #experiment_1.top_results(\"cv_r2\", 5, stage=\"CV\", top_data_path=f\"data/results/{FREQUENCY}/top_results.csv\")\n",
    "    experiment_1.save_results(f\"data/{region}_results/results.csv\")"
   ]
  },
  {
   "cell_type": "markdown",
   "metadata": {},
   "source": [
    "# Chile 2Monthly Prediction"
   ]
  },
  {
   "cell_type": "code",
   "execution_count": 34,
   "metadata": {},
   "outputs": [],
   "source": [
    "region=\"chile\""
   ]
  },
  {
   "cell_type": "code",
   "execution_count": 52,
   "metadata": {},
   "outputs": [
    {
     "data": {
      "text/html": [
       "<div>\n",
       "<style scoped>\n",
       "    .dataframe tbody tr th:only-of-type {\n",
       "        vertical-align: middle;\n",
       "    }\n",
       "\n",
       "    .dataframe tbody tr th {\n",
       "        vertical-align: top;\n",
       "    }\n",
       "\n",
       "    .dataframe thead th {\n",
       "        text-align: right;\n",
       "    }\n",
       "</style>\n",
       "<table border=\"1\" class=\"dataframe\">\n",
       "  <thead>\n",
       "    <tr style=\"text-align: right;\">\n",
       "      <th></th>\n",
       "      <th>id</th>\n",
       "      <th>filename</th>\n",
       "      <th>boxes</th>\n",
       "      <th>top_n</th>\n",
       "      <th>var_thresh</th>\n",
       "      <th>modes</th>\n",
       "      <th>frequency</th>\n",
       "      <th>season</th>\n",
       "      <th>methods</th>\n",
       "    </tr>\n",
       "  </thead>\n",
       "  <tbody>\n",
       "    <tr>\n",
       "      <th>0</th>\n",
       "      <td>efec9f9c</td>\n",
       "      <td>predictor_efec9f9c_1.parquet</td>\n",
       "      <td>0</td>\n",
       "      <td>5</td>\n",
       "      <td>NaN</td>\n",
       "      <td>1</td>\n",
       "      <td>2monthly</td>\n",
       "      <td>1</td>\n",
       "      <td>ps</td>\n",
       "    </tr>\n",
       "    <tr>\n",
       "      <th>1</th>\n",
       "      <td>efec9f9c</td>\n",
       "      <td>predictor_efec9f9c_2.parquet</td>\n",
       "      <td>0</td>\n",
       "      <td>5</td>\n",
       "      <td>NaN</td>\n",
       "      <td>1</td>\n",
       "      <td>2monthly</td>\n",
       "      <td>2</td>\n",
       "      <td>ps</td>\n",
       "    </tr>\n",
       "    <tr>\n",
       "      <th>2</th>\n",
       "      <td>efec9f9c</td>\n",
       "      <td>predictor_efec9f9c_3.parquet</td>\n",
       "      <td>0</td>\n",
       "      <td>5</td>\n",
       "      <td>NaN</td>\n",
       "      <td>1</td>\n",
       "      <td>2monthly</td>\n",
       "      <td>3</td>\n",
       "      <td>ps</td>\n",
       "    </tr>\n",
       "    <tr>\n",
       "      <th>3</th>\n",
       "      <td>efec9f9c</td>\n",
       "      <td>predictor_efec9f9c_4.parquet</td>\n",
       "      <td>0</td>\n",
       "      <td>5</td>\n",
       "      <td>NaN</td>\n",
       "      <td>1</td>\n",
       "      <td>2monthly</td>\n",
       "      <td>4</td>\n",
       "      <td>ps</td>\n",
       "    </tr>\n",
       "    <tr>\n",
       "      <th>4</th>\n",
       "      <td>efec9f9c</td>\n",
       "      <td>predictor_efec9f9c_5.parquet</td>\n",
       "      <td>0</td>\n",
       "      <td>5</td>\n",
       "      <td>NaN</td>\n",
       "      <td>1</td>\n",
       "      <td>2monthly</td>\n",
       "      <td>5</td>\n",
       "      <td>ps</td>\n",
       "    </tr>\n",
       "    <tr>\n",
       "      <th>...</th>\n",
       "      <td>...</td>\n",
       "      <td>...</td>\n",
       "      <td>...</td>\n",
       "      <td>...</td>\n",
       "      <td>...</td>\n",
       "      <td>...</td>\n",
       "      <td>...</td>\n",
       "      <td>...</td>\n",
       "      <td>...</td>\n",
       "    </tr>\n",
       "    <tr>\n",
       "      <th>715</th>\n",
       "      <td>f579dc90</td>\n",
       "      <td>predictor_f579dc90_8.parquet</td>\n",
       "      <td>0</td>\n",
       "      <td>30</td>\n",
       "      <td>0.15</td>\n",
       "      <td>3</td>\n",
       "      <td>2monthly</td>\n",
       "      <td>8</td>\n",
       "      <td>ps</td>\n",
       "    </tr>\n",
       "    <tr>\n",
       "      <th>716</th>\n",
       "      <td>f579dc90</td>\n",
       "      <td>predictor_f579dc90_9.parquet</td>\n",
       "      <td>0</td>\n",
       "      <td>30</td>\n",
       "      <td>0.15</td>\n",
       "      <td>3</td>\n",
       "      <td>2monthly</td>\n",
       "      <td>9</td>\n",
       "      <td>ps</td>\n",
       "    </tr>\n",
       "    <tr>\n",
       "      <th>717</th>\n",
       "      <td>f579dc90</td>\n",
       "      <td>predictor_f579dc90_10.parquet</td>\n",
       "      <td>0</td>\n",
       "      <td>30</td>\n",
       "      <td>0.15</td>\n",
       "      <td>3</td>\n",
       "      <td>2monthly</td>\n",
       "      <td>10</td>\n",
       "      <td>ps</td>\n",
       "    </tr>\n",
       "    <tr>\n",
       "      <th>718</th>\n",
       "      <td>f579dc90</td>\n",
       "      <td>predictor_f579dc90_11.parquet</td>\n",
       "      <td>0</td>\n",
       "      <td>30</td>\n",
       "      <td>0.15</td>\n",
       "      <td>3</td>\n",
       "      <td>2monthly</td>\n",
       "      <td>11</td>\n",
       "      <td>ps</td>\n",
       "    </tr>\n",
       "    <tr>\n",
       "      <th>719</th>\n",
       "      <td>f579dc90</td>\n",
       "      <td>predictor_f579dc90_12.parquet</td>\n",
       "      <td>0</td>\n",
       "      <td>30</td>\n",
       "      <td>0.15</td>\n",
       "      <td>3</td>\n",
       "      <td>2monthly</td>\n",
       "      <td>12</td>\n",
       "      <td>ps</td>\n",
       "    </tr>\n",
       "  </tbody>\n",
       "</table>\n",
       "<p>720 rows × 9 columns</p>\n",
       "</div>"
      ],
      "text/plain": [
       "           id                       filename  boxes  top_n  var_thresh  modes   \n",
       "0    efec9f9c   predictor_efec9f9c_1.parquet      0      5         NaN      1  \\\n",
       "1    efec9f9c   predictor_efec9f9c_2.parquet      0      5         NaN      1   \n",
       "2    efec9f9c   predictor_efec9f9c_3.parquet      0      5         NaN      1   \n",
       "3    efec9f9c   predictor_efec9f9c_4.parquet      0      5         NaN      1   \n",
       "4    efec9f9c   predictor_efec9f9c_5.parquet      0      5         NaN      1   \n",
       "..        ...                            ...    ...    ...         ...    ...   \n",
       "715  f579dc90   predictor_f579dc90_8.parquet      0     30        0.15      3   \n",
       "716  f579dc90   predictor_f579dc90_9.parquet      0     30        0.15      3   \n",
       "717  f579dc90  predictor_f579dc90_10.parquet      0     30        0.15      3   \n",
       "718  f579dc90  predictor_f579dc90_11.parquet      0     30        0.15      3   \n",
       "719  f579dc90  predictor_f579dc90_12.parquet      0     30        0.15      3   \n",
       "\n",
       "    frequency  season methods  \n",
       "0    2monthly       1      ps  \n",
       "1    2monthly       2      ps  \n",
       "2    2monthly       3      ps  \n",
       "3    2monthly       4      ps  \n",
       "4    2monthly       5      ps  \n",
       "..        ...     ...     ...  \n",
       "715  2monthly       8      ps  \n",
       "716  2monthly       9      ps  \n",
       "717  2monthly      10      ps  \n",
       "718  2monthly      11      ps  \n",
       "719  2monthly      12      ps  \n",
       "\n",
       "[720 rows x 9 columns]"
      ]
     },
     "execution_count": 52,
     "metadata": {},
     "output_type": "execute_result"
    }
   ],
   "source": [
    "metadata = pd.read_csv(f\"data/new_features_t2m/{region}/metadata.csv\")\n",
    "metadata = metadata[metadata[\"frequency\"]==FREQUENCY]\n",
    "metadata.reset_index(drop=True,inplace=True)\n",
    "metadata"
   ]
  },
  {
   "cell_type": "code",
   "execution_count": 54,
   "metadata": {},
   "outputs": [],
   "source": [
    "kernel = RBF(length_scale=1.0) + WhiteKernel(noise_level=1)\n",
    "regressors = [LinearRegression(),RandomForestRegressor(random_state=42, n_estimators=5), RandomForestRegressor(random_state=42, n_estimators=10), SVR(kernel='rbf'),\n",
    "                XGBRegressor(random_state=42, n_estimators=10, learning_rate=0.1),XGBRegressor(random_state=42, n_estimators=15, learning_rate=0.1), GaussianProcessRegressor(kernel=kernel, random_state=42, n_restarts_optimizer=10)]\n",
    "name_regressors = [\"Linear\", \"RF5\", \"RF10\", \"SVR-rbf\", \"XGB10\", \"XGB15\", \"GPR\"]\n",
    "indices_of_interest = [\"HWN\", \"HWF\", \"HWD\", \"HWM\", \"HWA\"]"
   ]
  },
  {
   "cell_type": "code",
   "execution_count": 57,
   "metadata": {},
   "outputs": [
    {
     "name": "stderr",
     "output_type": "stream",
     "text": [
      "c:\\Users\\marti\\AppData\\Local\\Programs\\Python\\Python310\\lib\\site-packages\\sklearn\\gaussian_process\\kernels.py:419: ConvergenceWarning: The optimal value found for dimension 0 of parameter k2__noise_level is close to the specified lower bound 1e-05. Decreasing the bound and calling fit again may find a better value.\n",
      "  warnings.warn(\n",
      "c:\\Users\\marti\\AppData\\Local\\Programs\\Python\\Python310\\lib\\site-packages\\sklearn\\gaussian_process\\kernels.py:419: ConvergenceWarning: The optimal value found for dimension 0 of parameter k2__noise_level is close to the specified lower bound 1e-05. Decreasing the bound and calling fit again may find a better value.\n",
      "  warnings.warn(\n",
      "c:\\Users\\marti\\AppData\\Local\\Programs\\Python\\Python310\\lib\\site-packages\\sklearn\\gaussian_process\\kernels.py:419: ConvergenceWarning: The optimal value found for dimension 0 of parameter k2__noise_level is close to the specified lower bound 1e-05. Decreasing the bound and calling fit again may find a better value.\n",
      "  warnings.warn(\n",
      "c:\\Users\\marti\\AppData\\Local\\Programs\\Python\\Python310\\lib\\site-packages\\sklearn\\gaussian_process\\kernels.py:419: ConvergenceWarning: The optimal value found for dimension 0 of parameter k2__noise_level is close to the specified lower bound 1e-05. Decreasing the bound and calling fit again may find a better value.\n",
      "  warnings.warn(\n",
      "c:\\Users\\marti\\AppData\\Local\\Programs\\Python\\Python310\\lib\\site-packages\\sklearn\\gaussian_process\\kernels.py:419: ConvergenceWarning: The optimal value found for dimension 0 of parameter k2__noise_level is close to the specified lower bound 1e-05. Decreasing the bound and calling fit again may find a better value.\n",
      "  warnings.warn(\n",
      "c:\\Users\\marti\\AppData\\Local\\Programs\\Python\\Python310\\lib\\site-packages\\sklearn\\gaussian_process\\kernels.py:419: ConvergenceWarning: The optimal value found for dimension 0 of parameter k2__noise_level is close to the specified lower bound 1e-05. Decreasing the bound and calling fit again may find a better value.\n",
      "  warnings.warn(\n",
      "c:\\Users\\marti\\AppData\\Local\\Programs\\Python\\Python310\\lib\\site-packages\\sklearn\\gaussian_process\\kernels.py:419: ConvergenceWarning: The optimal value found for dimension 0 of parameter k2__noise_level is close to the specified lower bound 1e-05. Decreasing the bound and calling fit again may find a better value.\n",
      "  warnings.warn(\n",
      "c:\\Users\\marti\\AppData\\Local\\Programs\\Python\\Python310\\lib\\site-packages\\sklearn\\gaussian_process\\kernels.py:419: ConvergenceWarning: The optimal value found for dimension 0 of parameter k2__noise_level is close to the specified lower bound 1e-05. Decreasing the bound and calling fit again may find a better value.\n",
      "  warnings.warn(\n",
      "c:\\Users\\marti\\AppData\\Local\\Programs\\Python\\Python310\\lib\\site-packages\\sklearn\\gaussian_process\\kernels.py:419: ConvergenceWarning: The optimal value found for dimension 0 of parameter k2__noise_level is close to the specified lower bound 1e-05. Decreasing the bound and calling fit again may find a better value.\n",
      "  warnings.warn(\n",
      "c:\\Users\\marti\\AppData\\Local\\Programs\\Python\\Python310\\lib\\site-packages\\sklearn\\gaussian_process\\kernels.py:419: ConvergenceWarning: The optimal value found for dimension 0 of parameter k2__noise_level is close to the specified lower bound 1e-05. Decreasing the bound and calling fit again may find a better value.\n",
      "  warnings.warn(\n"
     ]
    }
   ],
   "source": [
    "id_experiments = metadata[\"id\"].unique()\n",
    "for id in id_experiments:\n",
    "    data = {i: pd.read_parquet(f\"data/new_features_t2m/{region}/predictor_{id}_{i}.parquet\") for i in range(1,13)}\n",
    "    experiment_1 = PredictionExperiment(data, indices_of_interest, regressors, name_regressors, 5, id)\n",
    "    experiment_1.execute_experiment()\n",
    "    experiment_1.get_metrics(\"r2\", \"prediction\", show=False)\n",
    "    experiment_1.get_metrics(\"mape\", \"prediction\", show=False)\n",
    "    experiment_1.get_metrics(\"r2\", stage=\"training\", show=False)\n",
    "    experiment_1.get_metrics(\"mape\", stage=\"training\", show=False)\n",
    "    experiment_1.get_metrics(\"cv_r2\", show=False)\n",
    "    #experiment_1.top_results(\"r2\", 5, stage=\"prediction\", top_data_path=f\"data/results/{FREQUENCY}/top_results.csv\")\n",
    "    #experiment_1.top_results(\"cv_r2\", 5, stage=\"CV\", top_data_path=f\"data/results/{FREQUENCY}/top_results.csv\")\n",
    "    experiment_1.save_results(f\"data/{region}_results/results.csv\")"
   ]
  },
  {
   "cell_type": "code",
   "execution_count": null,
   "metadata": {},
   "outputs": [],
   "source": []
  }
 ],
 "metadata": {
  "kernelspec": {
   "display_name": "Python 3",
   "language": "python",
   "name": "python3"
  },
  "language_info": {
   "codemirror_mode": {
    "name": "ipython",
    "version": 3
   },
   "file_extension": ".py",
   "mimetype": "text/x-python",
   "name": "python",
   "nbconvert_exporter": "python",
   "pygments_lexer": "ipython3",
   "version": "3.10.11"
  }
 },
 "nbformat": 4,
 "nbformat_minor": 2
}
