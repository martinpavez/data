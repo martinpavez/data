{
 "cells": [
  {
   "cell_type": "markdown",
   "metadata": {},
   "source": [
    "# California Year Prediction, Yearly Features"
   ]
  },
  {
   "cell_type": "markdown",
   "metadata": {},
   "source": [
    "## Imports and Functions"
   ]
  },
  {
   "cell_type": "code",
   "execution_count": null,
   "metadata": {},
   "outputs": [],
   "source": [
    "import pandas as pd\n",
    "from sklearn.ensemble import RandomForestRegressor\n",
    "from sklearn.linear_model import LinearRegression\n",
    "from sklearn.gaussian_process.kernels import RBF, WhiteKernel\n",
    "from sklearn.gaussian_process import GaussianProcessRegressor\n",
    "\n",
    "\n",
    "from sklearn.svm import SVR\n",
    "import os\n",
    "from xgboost import XGBRegressor\n",
    "\n",
    "import sys"
   ]
  },
  {
   "cell_type": "code",
   "execution_count": 2,
   "metadata": {},
   "outputs": [
    {
     "name": "stdout",
     "output_type": "stream",
     "text": [
      "c:\\Users\\marti\\Desktop\\data\\hw_extra\n"
     ]
    }
   ],
   "source": [
    "# Add the folder to the Python path\n",
    "\n",
    "os.chdir(\"../../\")\n",
    "# change working directory to project's root path\n",
    "print(os.getcwd())\n",
    "\n",
    "FIRST_YEAR= 1972"
   ]
  },
  {
   "cell_type": "code",
   "execution_count": 3,
   "metadata": {},
   "outputs": [],
   "source": [
    "folder_path = os.path.abspath(\"functions/\") #INPUT_PATH)#'path_to_your_folder')  # Replace with the actual folder path\n",
    "sys.path.insert(0, folder_path)\n",
    "\n",
    "from Predictions import (\n",
    "    PredictionExperiment,\n",
    ")"
   ]
  },
  {
   "cell_type": "code",
   "execution_count": 16,
   "metadata": {},
   "outputs": [],
   "source": [
    "data = {1:pd.read_csv(f\"data/features/california/from1972/top10/HWs_cali_features_yearly.csv\")}\n",
    "indices_of_interest = [\"HWN\", \"HWF\", \"HWD\", \"HWM\", \"HWA\"]"
   ]
  },
  {
   "cell_type": "code",
   "execution_count": 17,
   "metadata": {},
   "outputs": [],
   "source": [
    "kernel = RBF(length_scale=1.0) + WhiteKernel(noise_level=1)\n",
    "predictors = [LinearRegression(),RandomForestRegressor(random_state=42, n_estimators=10), RandomForestRegressor(random_state=42, n_estimators=50),  RandomForestRegressor(random_state=42, n_estimators=100), SVR(kernel='rbf'),\n",
    "                XGBRegressor(random_state=42, n_estimators=10, learning_rate=0.1),XGBRegressor(random_state=42, n_estimators=20, learning_rate=0.1), XGBRegressor(random_state=42, n_estimators=50, learning_rate=0.1), XGBRegressor(random_state=42, n_estimators=100, learning_rate=0.1), GaussianProcessRegressor(kernel=kernel, random_state=42, n_restarts_optimizer=10)]\n",
    "name_predictors = [\"Linear\", \"RF10\", \"RF50\", \"RF100\", \"SVR-rbf\", \"XGB10\", \"XGB20\",  \"XGB50\",  \"XGB100\", \"GPR\"]"
   ]
  },
  {
   "cell_type": "code",
   "execution_count": 18,
   "metadata": {},
   "outputs": [],
   "source": [
    "experiment_1 = PredictionExperiment(data, indices_of_interest, predictors, name_predictors, 5)"
   ]
  },
  {
   "cell_type": "code",
   "execution_count": 19,
   "metadata": {},
   "outputs": [
    {
     "name": "stderr",
     "output_type": "stream",
     "text": [
      "c:\\Users\\marti\\AppData\\Local\\Programs\\Python\\Python310\\lib\\site-packages\\sklearn\\gaussian_process\\kernels.py:429: ConvergenceWarning: The optimal value found for dimension 0 of parameter k1__length_scale is close to the specified upper bound 100000.0. Increasing the bound and calling fit again may find a better value.\n",
      "  warnings.warn(\n",
      "c:\\Users\\marti\\AppData\\Local\\Programs\\Python\\Python310\\lib\\site-packages\\sklearn\\gaussian_process\\kernels.py:429: ConvergenceWarning: The optimal value found for dimension 0 of parameter k1__length_scale is close to the specified upper bound 100000.0. Increasing the bound and calling fit again may find a better value.\n",
      "  warnings.warn(\n",
      "c:\\Users\\marti\\AppData\\Local\\Programs\\Python\\Python310\\lib\\site-packages\\sklearn\\gaussian_process\\kernels.py:429: ConvergenceWarning: The optimal value found for dimension 0 of parameter k1__length_scale is close to the specified upper bound 100000.0. Increasing the bound and calling fit again may find a better value.\n",
      "  warnings.warn(\n",
      "c:\\Users\\marti\\AppData\\Local\\Programs\\Python\\Python310\\lib\\site-packages\\sklearn\\gaussian_process\\kernels.py:429: ConvergenceWarning: The optimal value found for dimension 0 of parameter k1__length_scale is close to the specified upper bound 100000.0. Increasing the bound and calling fit again may find a better value.\n",
      "  warnings.warn(\n",
      "c:\\Users\\marti\\AppData\\Local\\Programs\\Python\\Python310\\lib\\site-packages\\sklearn\\gaussian_process\\kernels.py:429: ConvergenceWarning: The optimal value found for dimension 0 of parameter k1__length_scale is close to the specified upper bound 100000.0. Increasing the bound and calling fit again may find a better value.\n",
      "  warnings.warn(\n",
      "c:\\Users\\marti\\AppData\\Local\\Programs\\Python\\Python310\\lib\\site-packages\\sklearn\\gaussian_process\\kernels.py:429: ConvergenceWarning: The optimal value found for dimension 0 of parameter k1__length_scale is close to the specified upper bound 100000.0. Increasing the bound and calling fit again may find a better value.\n",
      "  warnings.warn(\n",
      "c:\\Users\\marti\\AppData\\Local\\Programs\\Python\\Python310\\lib\\site-packages\\sklearn\\gaussian_process\\kernels.py:429: ConvergenceWarning: The optimal value found for dimension 0 of parameter k1__length_scale is close to the specified upper bound 100000.0. Increasing the bound and calling fit again may find a better value.\n",
      "  warnings.warn(\n",
      "c:\\Users\\marti\\AppData\\Local\\Programs\\Python\\Python310\\lib\\site-packages\\sklearn\\gaussian_process\\kernels.py:429: ConvergenceWarning: The optimal value found for dimension 0 of parameter k1__length_scale is close to the specified upper bound 100000.0. Increasing the bound and calling fit again may find a better value.\n",
      "  warnings.warn(\n",
      "c:\\Users\\marti\\AppData\\Local\\Programs\\Python\\Python310\\lib\\site-packages\\sklearn\\gaussian_process\\kernels.py:429: ConvergenceWarning: The optimal value found for dimension 0 of parameter k1__length_scale is close to the specified upper bound 100000.0. Increasing the bound and calling fit again may find a better value.\n",
      "  warnings.warn(\n",
      "c:\\Users\\marti\\AppData\\Local\\Programs\\Python\\Python310\\lib\\site-packages\\sklearn\\gaussian_process\\kernels.py:429: ConvergenceWarning: The optimal value found for dimension 0 of parameter k1__length_scale is close to the specified upper bound 100000.0. Increasing the bound and calling fit again may find a better value.\n",
      "  warnings.warn(\n",
      "c:\\Users\\marti\\AppData\\Local\\Programs\\Python\\Python310\\lib\\site-packages\\sklearn\\gaussian_process\\kernels.py:429: ConvergenceWarning: The optimal value found for dimension 0 of parameter k1__length_scale is close to the specified upper bound 100000.0. Increasing the bound and calling fit again may find a better value.\n",
      "  warnings.warn(\n",
      "c:\\Users\\marti\\AppData\\Local\\Programs\\Python\\Python310\\lib\\site-packages\\sklearn\\gaussian_process\\kernels.py:429: ConvergenceWarning: The optimal value found for dimension 0 of parameter k1__length_scale is close to the specified upper bound 100000.0. Increasing the bound and calling fit again may find a better value.\n",
      "  warnings.warn(\n",
      "c:\\Users\\marti\\AppData\\Local\\Programs\\Python\\Python310\\lib\\site-packages\\sklearn\\gaussian_process\\kernels.py:429: ConvergenceWarning: The optimal value found for dimension 0 of parameter k1__length_scale is close to the specified upper bound 100000.0. Increasing the bound and calling fit again may find a better value.\n",
      "  warnings.warn(\n",
      "c:\\Users\\marti\\AppData\\Local\\Programs\\Python\\Python310\\lib\\site-packages\\sklearn\\gaussian_process\\kernels.py:429: ConvergenceWarning: The optimal value found for dimension 0 of parameter k1__length_scale is close to the specified upper bound 100000.0. Increasing the bound and calling fit again may find a better value.\n",
      "  warnings.warn(\n",
      "c:\\Users\\marti\\AppData\\Local\\Programs\\Python\\Python310\\lib\\site-packages\\sklearn\\gaussian_process\\kernels.py:429: ConvergenceWarning: The optimal value found for dimension 0 of parameter k1__length_scale is close to the specified upper bound 100000.0. Increasing the bound and calling fit again may find a better value.\n",
      "  warnings.warn(\n",
      "c:\\Users\\marti\\AppData\\Local\\Programs\\Python\\Python310\\lib\\site-packages\\sklearn\\gaussian_process\\kernels.py:429: ConvergenceWarning: The optimal value found for dimension 0 of parameter k1__length_scale is close to the specified upper bound 100000.0. Increasing the bound and calling fit again may find a better value.\n",
      "  warnings.warn(\n",
      "c:\\Users\\marti\\AppData\\Local\\Programs\\Python\\Python310\\lib\\site-packages\\sklearn\\gaussian_process\\kernels.py:429: ConvergenceWarning: The optimal value found for dimension 0 of parameter k1__length_scale is close to the specified upper bound 100000.0. Increasing the bound and calling fit again may find a better value.\n",
      "  warnings.warn(\n",
      "c:\\Users\\marti\\AppData\\Local\\Programs\\Python\\Python310\\lib\\site-packages\\sklearn\\gaussian_process\\kernels.py:429: ConvergenceWarning: The optimal value found for dimension 0 of parameter k1__length_scale is close to the specified upper bound 100000.0. Increasing the bound and calling fit again may find a better value.\n",
      "  warnings.warn(\n",
      "c:\\Users\\marti\\AppData\\Local\\Programs\\Python\\Python310\\lib\\site-packages\\sklearn\\gaussian_process\\kernels.py:429: ConvergenceWarning: The optimal value found for dimension 0 of parameter k1__length_scale is close to the specified upper bound 100000.0. Increasing the bound and calling fit again may find a better value.\n",
      "  warnings.warn(\n"
     ]
    }
   ],
   "source": [
    "experiment_1.execute_experiment()"
   ]
  },
  {
   "cell_type": "code",
   "execution_count": 23,
   "metadata": {},
   "outputs": [
    {
     "data": {
      "text/html": [
       "<style type=\"text/css\">\n",
       "</style>\n",
       "<table id=\"T_ed51a\">\n",
       "  <caption>cv_r2 Model Results for prediction</caption>\n",
       "  <thead>\n",
       "    <tr>\n",
       "      <th class=\"blank level0\" >&nbsp;</th>\n",
       "      <th id=\"T_ed51a_level0_col0\" class=\"col_heading level0 col0\" >Model</th>\n",
       "      <th id=\"T_ed51a_level0_col1\" class=\"col_heading level0 col1\" >Season</th>\n",
       "      <th id=\"T_ed51a_level0_col2\" class=\"col_heading level0 col2\" >HWN</th>\n",
       "      <th id=\"T_ed51a_level0_col3\" class=\"col_heading level0 col3\" >HWF</th>\n",
       "      <th id=\"T_ed51a_level0_col4\" class=\"col_heading level0 col4\" >HWD</th>\n",
       "      <th id=\"T_ed51a_level0_col5\" class=\"col_heading level0 col5\" >HWM</th>\n",
       "      <th id=\"T_ed51a_level0_col6\" class=\"col_heading level0 col6\" >HWA</th>\n",
       "      <th id=\"T_ed51a_level0_col7\" class=\"col_heading level0 col7\" >Average</th>\n",
       "    </tr>\n",
       "  </thead>\n",
       "  <tbody>\n",
       "    <tr>\n",
       "      <th id=\"T_ed51a_level0_row0\" class=\"row_heading level0 row0\" >0</th>\n",
       "      <td id=\"T_ed51a_row0_col0\" class=\"data row0 col0\" >Linear</td>\n",
       "      <td id=\"T_ed51a_row0_col1\" class=\"data row0 col1\" >1</td>\n",
       "      <td id=\"T_ed51a_row0_col2\" class=\"data row0 col2\" >-1.26</td>\n",
       "      <td id=\"T_ed51a_row0_col3\" class=\"data row0 col3\" >-0.36</td>\n",
       "      <td id=\"T_ed51a_row0_col4\" class=\"data row0 col4\" >-1.33</td>\n",
       "      <td id=\"T_ed51a_row0_col5\" class=\"data row0 col5\" >-1.10</td>\n",
       "      <td id=\"T_ed51a_row0_col6\" class=\"data row0 col6\" >-0.28</td>\n",
       "      <td id=\"T_ed51a_row0_col7\" class=\"data row0 col7\" >-0.87</td>\n",
       "    </tr>\n",
       "    <tr>\n",
       "      <th id=\"T_ed51a_level0_row1\" class=\"row_heading level0 row1\" >1</th>\n",
       "      <td id=\"T_ed51a_row1_col0\" class=\"data row1 col0\" >RF10</td>\n",
       "      <td id=\"T_ed51a_row1_col1\" class=\"data row1 col1\" >1</td>\n",
       "      <td id=\"T_ed51a_row1_col2\" class=\"data row1 col2\" >-0.71</td>\n",
       "      <td id=\"T_ed51a_row1_col3\" class=\"data row1 col3\" >-0.36</td>\n",
       "      <td id=\"T_ed51a_row1_col4\" class=\"data row1 col4\" >-1.46</td>\n",
       "      <td id=\"T_ed51a_row1_col5\" class=\"data row1 col5\" >-1.19</td>\n",
       "      <td id=\"T_ed51a_row1_col6\" class=\"data row1 col6\" >-0.25</td>\n",
       "      <td id=\"T_ed51a_row1_col7\" class=\"data row1 col7\" >-0.80</td>\n",
       "    </tr>\n",
       "    <tr>\n",
       "      <th id=\"T_ed51a_level0_row2\" class=\"row_heading level0 row2\" >2</th>\n",
       "      <td id=\"T_ed51a_row2_col0\" class=\"data row2 col0\" >RF50</td>\n",
       "      <td id=\"T_ed51a_row2_col1\" class=\"data row2 col1\" >1</td>\n",
       "      <td id=\"T_ed51a_row2_col2\" class=\"data row2 col2\" >-0.66</td>\n",
       "      <td id=\"T_ed51a_row2_col3\" class=\"data row2 col3\" >-0.24</td>\n",
       "      <td id=\"T_ed51a_row2_col4\" class=\"data row2 col4\" >-1.57</td>\n",
       "      <td id=\"T_ed51a_row2_col5\" class=\"data row2 col5\" >-0.95</td>\n",
       "      <td id=\"T_ed51a_row2_col6\" class=\"data row2 col6\" >-0.37</td>\n",
       "      <td id=\"T_ed51a_row2_col7\" class=\"data row2 col7\" >-0.76</td>\n",
       "    </tr>\n",
       "    <tr>\n",
       "      <th id=\"T_ed51a_level0_row3\" class=\"row_heading level0 row3\" >3</th>\n",
       "      <td id=\"T_ed51a_row3_col0\" class=\"data row3 col0\" >RF100</td>\n",
       "      <td id=\"T_ed51a_row3_col1\" class=\"data row3 col1\" >1</td>\n",
       "      <td id=\"T_ed51a_row3_col2\" class=\"data row3 col2\" >-0.64</td>\n",
       "      <td id=\"T_ed51a_row3_col3\" class=\"data row3 col3\" >-0.29</td>\n",
       "      <td id=\"T_ed51a_row3_col4\" class=\"data row3 col4\" >-1.77</td>\n",
       "      <td id=\"T_ed51a_row3_col5\" class=\"data row3 col5\" >-0.88</td>\n",
       "      <td id=\"T_ed51a_row3_col6\" class=\"data row3 col6\" >-0.40</td>\n",
       "      <td id=\"T_ed51a_row3_col7\" class=\"data row3 col7\" >-0.80</td>\n",
       "    </tr>\n",
       "    <tr>\n",
       "      <th id=\"T_ed51a_level0_row4\" class=\"row_heading level0 row4\" >4</th>\n",
       "      <td id=\"T_ed51a_row4_col0\" class=\"data row4 col0\" >SVR-rbf</td>\n",
       "      <td id=\"T_ed51a_row4_col1\" class=\"data row4 col1\" >1</td>\n",
       "      <td id=\"T_ed51a_row4_col2\" class=\"data row4 col2\" >-0.45</td>\n",
       "      <td id=\"T_ed51a_row4_col3\" class=\"data row4 col3\" >-0.00</td>\n",
       "      <td id=\"T_ed51a_row4_col4\" class=\"data row4 col4\" >-1.15</td>\n",
       "      <td id=\"T_ed51a_row4_col5\" class=\"data row4 col5\" >-0.65</td>\n",
       "      <td id=\"T_ed51a_row4_col6\" class=\"data row4 col6\" >-0.21</td>\n",
       "      <td id=\"T_ed51a_row4_col7\" class=\"data row4 col7\" >-0.49</td>\n",
       "    </tr>\n",
       "    <tr>\n",
       "      <th id=\"T_ed51a_level0_row5\" class=\"row_heading level0 row5\" >5</th>\n",
       "      <td id=\"T_ed51a_row5_col0\" class=\"data row5 col0\" >XGB10</td>\n",
       "      <td id=\"T_ed51a_row5_col1\" class=\"data row5 col1\" >1</td>\n",
       "      <td id=\"T_ed51a_row5_col2\" class=\"data row5 col2\" >-0.50</td>\n",
       "      <td id=\"T_ed51a_row5_col3\" class=\"data row5 col3\" >-0.31</td>\n",
       "      <td id=\"T_ed51a_row5_col4\" class=\"data row5 col4\" >-1.70</td>\n",
       "      <td id=\"T_ed51a_row5_col5\" class=\"data row5 col5\" >-0.40</td>\n",
       "      <td id=\"T_ed51a_row5_col6\" class=\"data row5 col6\" >-0.27</td>\n",
       "      <td id=\"T_ed51a_row5_col7\" class=\"data row5 col7\" >-0.64</td>\n",
       "    </tr>\n",
       "    <tr>\n",
       "      <th id=\"T_ed51a_level0_row6\" class=\"row_heading level0 row6\" >6</th>\n",
       "      <td id=\"T_ed51a_row6_col0\" class=\"data row6 col0\" >XGB20</td>\n",
       "      <td id=\"T_ed51a_row6_col1\" class=\"data row6 col1\" >1</td>\n",
       "      <td id=\"T_ed51a_row6_col2\" class=\"data row6 col2\" >-0.79</td>\n",
       "      <td id=\"T_ed51a_row6_col3\" class=\"data row6 col3\" >-0.66</td>\n",
       "      <td id=\"T_ed51a_row6_col4\" class=\"data row6 col4\" >-1.92</td>\n",
       "      <td id=\"T_ed51a_row6_col5\" class=\"data row6 col5\" >-0.82</td>\n",
       "      <td id=\"T_ed51a_row6_col6\" class=\"data row6 col6\" >-0.33</td>\n",
       "      <td id=\"T_ed51a_row6_col7\" class=\"data row6 col7\" >-0.90</td>\n",
       "    </tr>\n",
       "    <tr>\n",
       "      <th id=\"T_ed51a_level0_row7\" class=\"row_heading level0 row7\" >7</th>\n",
       "      <td id=\"T_ed51a_row7_col0\" class=\"data row7 col0\" >XGB50</td>\n",
       "      <td id=\"T_ed51a_row7_col1\" class=\"data row7 col1\" >1</td>\n",
       "      <td id=\"T_ed51a_row7_col2\" class=\"data row7 col2\" >-1.02</td>\n",
       "      <td id=\"T_ed51a_row7_col3\" class=\"data row7 col3\" >-1.05</td>\n",
       "      <td id=\"T_ed51a_row7_col4\" class=\"data row7 col4\" >-2.12</td>\n",
       "      <td id=\"T_ed51a_row7_col5\" class=\"data row7 col5\" >-1.26</td>\n",
       "      <td id=\"T_ed51a_row7_col6\" class=\"data row7 col6\" >-0.39</td>\n",
       "      <td id=\"T_ed51a_row7_col7\" class=\"data row7 col7\" >-1.17</td>\n",
       "    </tr>\n",
       "    <tr>\n",
       "      <th id=\"T_ed51a_level0_row8\" class=\"row_heading level0 row8\" >8</th>\n",
       "      <td id=\"T_ed51a_row8_col0\" class=\"data row8 col0\" >XGB100</td>\n",
       "      <td id=\"T_ed51a_row8_col1\" class=\"data row8 col1\" >1</td>\n",
       "      <td id=\"T_ed51a_row8_col2\" class=\"data row8 col2\" >-1.05</td>\n",
       "      <td id=\"T_ed51a_row8_col3\" class=\"data row8 col3\" >-1.14</td>\n",
       "      <td id=\"T_ed51a_row8_col4\" class=\"data row8 col4\" >-2.23</td>\n",
       "      <td id=\"T_ed51a_row8_col5\" class=\"data row8 col5\" >-1.35</td>\n",
       "      <td id=\"T_ed51a_row8_col6\" class=\"data row8 col6\" >-0.41</td>\n",
       "      <td id=\"T_ed51a_row8_col7\" class=\"data row8 col7\" >-1.24</td>\n",
       "    </tr>\n",
       "    <tr>\n",
       "      <th id=\"T_ed51a_level0_row9\" class=\"row_heading level0 row9\" >9</th>\n",
       "      <td id=\"T_ed51a_row9_col0\" class=\"data row9 col0\" >GPR</td>\n",
       "      <td id=\"T_ed51a_row9_col1\" class=\"data row9 col1\" >1</td>\n",
       "      <td id=\"T_ed51a_row9_col2\" class=\"data row9 col2\" >-2.21</td>\n",
       "      <td id=\"T_ed51a_row9_col3\" class=\"data row9 col3\" >-4.16</td>\n",
       "      <td id=\"T_ed51a_row9_col4\" class=\"data row9 col4\" >-2.00</td>\n",
       "      <td id=\"T_ed51a_row9_col5\" class=\"data row9 col5\" >-3.86</td>\n",
       "      <td id=\"T_ed51a_row9_col6\" class=\"data row9 col6\" >-2.15</td>\n",
       "      <td id=\"T_ed51a_row9_col7\" class=\"data row9 col7\" >-2.87</td>\n",
       "    </tr>\n",
       "  </tbody>\n",
       "</table>\n"
      ],
      "text/plain": [
       "<pandas.io.formats.style.Styler at 0x260be2379d0>"
      ]
     },
     "execution_count": 23,
     "metadata": {},
     "output_type": "execute_result"
    }
   ],
   "source": [
    "experiment_1.plot_metrics(\"cv_r2\", thresh=0.5)"
   ]
  },
  {
   "cell_type": "code",
   "execution_count": null,
   "metadata": {},
   "outputs": [],
   "source": []
  }
 ],
 "metadata": {
  "kernelspec": {
   "display_name": "Python 3",
   "language": "python",
   "name": "python3"
  },
  "language_info": {
   "codemirror_mode": {
    "name": "ipython",
    "version": 3
   },
   "file_extension": ".py",
   "mimetype": "text/x-python",
   "name": "python",
   "nbconvert_exporter": "python",
   "pygments_lexer": "ipython3",
   "version": "3.10.11"
  }
 },
 "nbformat": 4,
 "nbformat_minor": 2
}
